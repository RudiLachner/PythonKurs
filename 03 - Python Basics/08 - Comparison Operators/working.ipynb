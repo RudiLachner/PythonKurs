{
 "cells": [
  {
   "cell_type": "code",
   "execution_count": 1,
   "id": "6ce8c411-562e-41d7-abd4-75ac2b87f1b3",
   "metadata": {},
   "outputs": [],
   "source": [
    "a = 10\n",
    "b = 10"
   ]
  },
  {
   "cell_type": "code",
   "execution_count": 2,
   "id": "d827504b-8b5d-49bd-a286-6e3380e3fec6",
   "metadata": {},
   "outputs": [
    {
     "data": {
      "text/plain": [
       "True"
      ]
     },
     "execution_count": 2,
     "metadata": {},
     "output_type": "execute_result"
    }
   ],
   "source": [
    "a == b"
   ]
  },
  {
   "cell_type": "code",
   "execution_count": 3,
   "id": "5285832e-a855-4b89-8f1a-abe4524021c0",
   "metadata": {},
   "outputs": [],
   "source": [
    "c = 10.0"
   ]
  },
  {
   "cell_type": "code",
   "execution_count": 4,
   "id": "0bde70ef-1f27-4c2c-8c6b-04cd72a0e594",
   "metadata": {},
   "outputs": [
    {
     "data": {
      "text/plain": [
       "True"
      ]
     },
     "execution_count": 4,
     "metadata": {},
     "output_type": "execute_result"
    }
   ],
   "source": [
    "a == c"
   ]
  },
  {
   "cell_type": "code",
   "execution_count": 5,
   "id": "2aa193b5-c210-4cfa-ad66-7b5fac2b6e4c",
   "metadata": {},
   "outputs": [
    {
     "data": {
      "text/plain": [
       "False"
      ]
     },
     "execution_count": 5,
     "metadata": {},
     "output_type": "execute_result"
    }
   ],
   "source": [
    "a is c"
   ]
  },
  {
   "cell_type": "code",
   "execution_count": 6,
   "id": "2d067005-b415-4be4-bd43-1f6911b350f4",
   "metadata": {},
   "outputs": [],
   "source": [
    "a = 10\n",
    "b = 10.0"
   ]
  },
  {
   "cell_type": "code",
   "execution_count": 7,
   "id": "ada68395-c81e-4fd0-bc14-dc7d79faa0eb",
   "metadata": {},
   "outputs": [
    {
     "data": {
      "text/plain": [
       "True"
      ]
     },
     "execution_count": 7,
     "metadata": {},
     "output_type": "execute_result"
    }
   ],
   "source": [
    "a == b"
   ]
  },
  {
   "cell_type": "code",
   "execution_count": 8,
   "id": "d3838c12-e86b-4768-b5a0-e38107ff0f0c",
   "metadata": {},
   "outputs": [
    {
     "data": {
      "text/plain": [
       "False"
      ]
     },
     "execution_count": 8,
     "metadata": {},
     "output_type": "execute_result"
    }
   ],
   "source": [
    "a is b"
   ]
  },
  {
   "cell_type": "code",
   "execution_count": 9,
   "id": "ae40728b-368c-4665-9459-6c749af082af",
   "metadata": {},
   "outputs": [
    {
     "data": {
      "text/plain": [
       "(140735378220232, 2081374752464)"
      ]
     },
     "execution_count": 9,
     "metadata": {},
     "output_type": "execute_result"
    }
   ],
   "source": [
    "id(a), id(b) "
   ]
  },
  {
   "cell_type": "code",
   "execution_count": 10,
   "id": "bb560846-9ee3-4931-8d83-23146790c950",
   "metadata": {},
   "outputs": [],
   "source": [
    "a = 10"
   ]
  },
  {
   "cell_type": "code",
   "execution_count": 11,
   "id": "bbae053d-ea33-47dd-9273-62bd2531308a",
   "metadata": {},
   "outputs": [],
   "source": [
    "b = 10"
   ]
  },
  {
   "cell_type": "code",
   "execution_count": 12,
   "id": "89cb526b-1e88-4f2b-9185-d4e42fb49e96",
   "metadata": {},
   "outputs": [
    {
     "data": {
      "text/plain": [
       "True"
      ]
     },
     "execution_count": 12,
     "metadata": {},
     "output_type": "execute_result"
    }
   ],
   "source": [
    "a is b"
   ]
  },
  {
   "cell_type": "code",
   "execution_count": 13,
   "id": "89e3a812-9c10-4725-a74a-e95de041855a",
   "metadata": {},
   "outputs": [],
   "source": [
    "a = 10_000"
   ]
  },
  {
   "cell_type": "code",
   "execution_count": 14,
   "id": "fb21955f-5cac-4302-8114-b837efbab59d",
   "metadata": {},
   "outputs": [],
   "source": [
    "b = 10_000"
   ]
  },
  {
   "cell_type": "code",
   "execution_count": 15,
   "id": "0e650f20-eba6-4234-bdef-3502388b688b",
   "metadata": {},
   "outputs": [
    {
     "data": {
      "text/plain": [
       "False"
      ]
     },
     "execution_count": 15,
     "metadata": {},
     "output_type": "execute_result"
    }
   ],
   "source": [
    "a is b"
   ]
  },
  {
   "cell_type": "code",
   "execution_count": 16,
   "id": "60e0f4bf-6d57-44f1-9a24-fe5c4a0b71e4",
   "metadata": {},
   "outputs": [
    {
     "data": {
      "text/plain": [
       "(2081388699664, 2081388696976)"
      ]
     },
     "execution_count": 16,
     "metadata": {},
     "output_type": "execute_result"
    }
   ],
   "source": [
    "id(a), id(b)"
   ]
  },
  {
   "cell_type": "code",
   "execution_count": 17,
   "id": "a08741e3-89d5-44e9-8888-9f45746d4c40",
   "metadata": {},
   "outputs": [
    {
     "data": {
      "text/plain": [
       "True"
      ]
     },
     "execution_count": 17,
     "metadata": {},
     "output_type": "execute_result"
    }
   ],
   "source": [
    "10 != 12"
   ]
  },
  {
   "cell_type": "code",
   "execution_count": 18,
   "id": "ce923b32-77f4-4270-8c37-906effb8d9a2",
   "metadata": {},
   "outputs": [
    {
     "data": {
      "text/plain": [
       "False"
      ]
     },
     "execution_count": 18,
     "metadata": {},
     "output_type": "execute_result"
    }
   ],
   "source": [
    "10.5 != 10.5"
   ]
  },
  {
   "cell_type": "code",
   "execution_count": 19,
   "id": "64d49ece-6ef5-4289-86b4-69dcd87ec3cd",
   "metadata": {},
   "outputs": [
    {
     "data": {
      "text/plain": [
       "True"
      ]
     },
     "execution_count": 19,
     "metadata": {},
     "output_type": "execute_result"
    }
   ],
   "source": [
    "10 >= 5"
   ]
  },
  {
   "cell_type": "code",
   "execution_count": 20,
   "id": "6943e5fa-824d-480a-9d22-f5c7b3171c12",
   "metadata": {},
   "outputs": [
    {
     "data": {
      "text/plain": [
       "True"
      ]
     },
     "execution_count": 20,
     "metadata": {},
     "output_type": "execute_result"
    }
   ],
   "source": [
    "10.5 < 100"
   ]
  },
  {
   "cell_type": "code",
   "execution_count": null,
   "id": "a3dfe801-a1a4-4c45-a0c2-e67fdc472905",
   "metadata": {},
   "outputs": [],
   "source": []
  }
 ],
 "metadata": {
  "kernelspec": {
   "display_name": "Python 3 (ipykernel)",
   "language": "python",
   "name": "python3"
  },
  "language_info": {
   "codemirror_mode": {
    "name": "ipython",
    "version": 3
   },
   "file_extension": ".py",
   "mimetype": "text/x-python",
   "name": "python",
   "nbconvert_exporter": "python",
   "pygments_lexer": "ipython3",
   "version": "3.13.0"
  }
 },
 "nbformat": 4,
 "nbformat_minor": 5
}
