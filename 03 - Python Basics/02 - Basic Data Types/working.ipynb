{
 "cells": [
  {
   "cell_type": "code",
   "execution_count": 15,
   "id": "0e3cb06c-cb64-4008-85ad-bb4c340adc30",
   "metadata": {},
   "outputs": [],
   "source": [
    "a = 10"
   ]
  },
  {
   "cell_type": "code",
   "execution_count": 16,
   "id": "65c60be3-1c00-4446-8dd8-d3fb4d45d096",
   "metadata": {},
   "outputs": [
    {
     "data": {
      "text/plain": [
       "10"
      ]
     },
     "execution_count": 16,
     "metadata": {},
     "output_type": "execute_result"
    }
   ],
   "source": [
    "a"
   ]
  },
  {
   "cell_type": "code",
   "execution_count": 17,
   "id": "cc08014f-6013-4cab-95c0-0a26a1c3e2ac",
   "metadata": {},
   "outputs": [],
   "source": [
    "a = float(10)"
   ]
  },
  {
   "cell_type": "code",
   "execution_count": 18,
   "id": "fbf6f477-fe23-43a6-8abc-cfe1640a3060",
   "metadata": {},
   "outputs": [
    {
     "data": {
      "text/plain": [
       "10.0"
      ]
     },
     "execution_count": 18,
     "metadata": {},
     "output_type": "execute_result"
    }
   ],
   "source": [
    "a"
   ]
  },
  {
   "cell_type": "code",
   "execution_count": 19,
   "id": "47b6795d-7745-473e-9d0b-9af21629cf7d",
   "metadata": {},
   "outputs": [],
   "source": [
    "float = 999.0"
   ]
  },
  {
   "cell_type": "code",
   "execution_count": 20,
   "id": "557e2aab-3c7e-46c7-a7e6-8b1f9201ba7a",
   "metadata": {},
   "outputs": [
    {
     "ename": "TypeError",
     "evalue": "'float' object is not callable",
     "output_type": "error",
     "traceback": [
      "\u001b[1;31m---------------------------------------------------------------------------\u001b[0m",
      "\u001b[1;31mTypeError\u001b[0m                                 Traceback (most recent call last)",
      "Cell \u001b[1;32mIn[20], line 1\u001b[0m\n\u001b[1;32m----> 1\u001b[0m a \u001b[38;5;241m=\u001b[39m \u001b[38;5;28;43mfloat\u001b[39;49m\u001b[43m(\u001b[49m\u001b[38;5;241;43m10\u001b[39;49m\u001b[43m)\u001b[49m\n",
      "\u001b[1;31mTypeError\u001b[0m: 'float' object is not callable"
     ]
    }
   ],
   "source": [
    "a = float(10)"
   ]
  },
  {
   "cell_type": "code",
   "execution_count": 21,
   "id": "232e6583-61a4-4199-9e72-ee420e48e251",
   "metadata": {},
   "outputs": [],
   "source": [
    "del float"
   ]
  },
  {
   "cell_type": "code",
   "execution_count": null,
   "id": "69684654-5b4b-4024-adcc-23fe0b25e1df",
   "metadata": {},
   "outputs": [],
   "source": []
  },
  {
   "cell_type": "code",
   "execution_count": 22,
   "id": "4ed6c1a9-a136-4416-b762-7844cf99dee6",
   "metadata": {},
   "outputs": [],
   "source": [
    "a = float(10)"
   ]
  },
  {
   "cell_type": "code",
   "execution_count": 23,
   "id": "073f5906-0d35-4bb8-b278-a22a85771ab9",
   "metadata": {},
   "outputs": [
    {
     "data": {
      "text/plain": [
       "10.0"
      ]
     },
     "execution_count": 23,
     "metadata": {},
     "output_type": "execute_result"
    }
   ],
   "source": [
    "a"
   ]
  },
  {
   "cell_type": "code",
   "execution_count": 24,
   "id": "1182cdf5-32f3-4f44-98b1-f5e82fb21080",
   "metadata": {},
   "outputs": [],
   "source": [
    "current_balance = 100.0"
   ]
  },
  {
   "cell_type": "code",
   "execution_count": 25,
   "id": "da010950-eb93-494b-b43b-0819bed0e941",
   "metadata": {},
   "outputs": [],
   "source": [
    "currentBalance = 10"
   ]
  },
  {
   "cell_type": "code",
   "execution_count": 28,
   "id": "09ca1685-e658-47ff-8217-21bbc15ab27e",
   "metadata": {},
   "outputs": [
    {
     "name": "stdout",
     "output_type": "stream",
     "text": [
      "270.70414908622433\n"
     ]
    }
   ],
   "source": [
    "x = 100\n",
    "y = 0.1\n",
    "z = 10\n",
    "\n",
    "r = x * ((1 + y/12) ** (z * 12))\n",
    "\n",
    "print(r)"
   ]
  },
  {
   "cell_type": "code",
   "execution_count": 29,
   "id": "55f6467b-afde-43b9-9cc1-963e545ca98f",
   "metadata": {},
   "outputs": [
    {
     "name": "stdout",
     "output_type": "stream",
     "text": [
      "270.70414908622433\n"
     ]
    }
   ],
   "source": [
    "principle = 100 \n",
    "apr = 0.1\n",
    "years = 10\n",
    "\n",
    "future_value = principle * ((1 + apr/12) ** (years * 12))\n",
    "\n",
    "print(future_value)\n"
   ]
  },
  {
   "cell_type": "code",
   "execution_count": null,
   "id": "995d9e34-be15-49f0-acc7-c27e5320b5f2",
   "metadata": {},
   "outputs": [],
   "source": []
  }
 ],
 "metadata": {
  "kernelspec": {
   "display_name": "Python 3 (ipykernel)",
   "language": "python",
   "name": "python3"
  },
  "language_info": {
   "codemirror_mode": {
    "name": "ipython",
    "version": 3
   },
   "file_extension": ".py",
   "mimetype": "text/x-python",
   "name": "python",
   "nbconvert_exporter": "python",
   "pygments_lexer": "ipython3",
   "version": "3.13.0"
  }
 },
 "nbformat": 4,
 "nbformat_minor": 5
}
